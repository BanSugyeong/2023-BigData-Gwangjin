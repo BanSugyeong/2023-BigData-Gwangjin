{
 "cells": [
  {
   "cell_type": "code",
   "execution_count": 4,
   "id": "08e83acb",
   "metadata": {},
   "outputs": [],
   "source": [
    "import pandas as pd\n",
    "import numpy as np"
   ]
  },
  {
   "cell_type": "code",
   "execution_count": 8,
   "id": "3174b594",
   "metadata": {},
   "outputs": [
    {
     "data": {
      "text/html": [
       "<div>\n",
       "<style scoped>\n",
       "    .dataframe tbody tr th:only-of-type {\n",
       "        vertical-align: middle;\n",
       "    }\n",
       "\n",
       "    .dataframe tbody tr th {\n",
       "        vertical-align: top;\n",
       "    }\n",
       "\n",
       "    .dataframe thead th {\n",
       "        text-align: right;\n",
       "    }\n",
       "</style>\n",
       "<table border=\"1\" class=\"dataframe\">\n",
       "  <thead>\n",
       "    <tr style=\"text-align: right;\">\n",
       "      <th></th>\n",
       "      <th>법정동</th>\n",
       "      <th>노상주차장</th>\n",
       "      <th>노외주차장</th>\n",
       "      <th>부설주차장</th>\n",
       "      <th>총 주차면수</th>\n",
       "    </tr>\n",
       "  </thead>\n",
       "  <tbody>\n",
       "    <tr>\n",
       "      <th>0</th>\n",
       "      <td>중곡동</td>\n",
       "      <td>672</td>\n",
       "      <td>16</td>\n",
       "      <td>5541</td>\n",
       "      <td>6229</td>\n",
       "    </tr>\n",
       "    <tr>\n",
       "      <th>1</th>\n",
       "      <td>군자동</td>\n",
       "      <td>47</td>\n",
       "      <td>5</td>\n",
       "      <td>1074</td>\n",
       "      <td>1126</td>\n",
       "    </tr>\n",
       "    <tr>\n",
       "      <th>2</th>\n",
       "      <td>능동</td>\n",
       "      <td>162</td>\n",
       "      <td>4</td>\n",
       "      <td>824</td>\n",
       "      <td>990</td>\n",
       "    </tr>\n",
       "    <tr>\n",
       "      <th>3</th>\n",
       "      <td>구의동</td>\n",
       "      <td>328</td>\n",
       "      <td>11</td>\n",
       "      <td>3375</td>\n",
       "      <td>3714</td>\n",
       "    </tr>\n",
       "    <tr>\n",
       "      <th>4</th>\n",
       "      <td>광장동</td>\n",
       "      <td>188</td>\n",
       "      <td>2</td>\n",
       "      <td>336</td>\n",
       "      <td>526</td>\n",
       "    </tr>\n",
       "    <tr>\n",
       "      <th>5</th>\n",
       "      <td>화양동</td>\n",
       "      <td>153</td>\n",
       "      <td>5</td>\n",
       "      <td>1138</td>\n",
       "      <td>1296</td>\n",
       "    </tr>\n",
       "    <tr>\n",
       "      <th>6</th>\n",
       "      <td>자양동</td>\n",
       "      <td>845</td>\n",
       "      <td>19</td>\n",
       "      <td>3535</td>\n",
       "      <td>4399</td>\n",
       "    </tr>\n",
       "  </tbody>\n",
       "</table>\n",
       "</div>"
      ],
      "text/plain": [
       "   법정동  노상주차장  노외주차장  부설주차장  총 주차면수\n",
       "0  중곡동    672     16   5541    6229\n",
       "1  군자동     47      5   1074    1126\n",
       "2   능동    162      4    824     990\n",
       "3  구의동    328     11   3375    3714\n",
       "4  광장동    188      2    336     526\n",
       "5  화양동    153      5   1138    1296\n",
       "6  자양동    845     19   3535    4399"
      ]
     },
     "execution_count": 8,
     "metadata": {},
     "output_type": "execute_result"
    }
   ],
   "source": [
    "parking = pd.read_csv('법정동별_주차면수.csv', encoding='cp949')\n",
    "parking"
   ]
  },
  {
   "cell_type": "code",
   "execution_count": 12,
   "id": "0548983e",
   "metadata": {},
   "outputs": [
    {
     "data": {
      "text/html": [
       "<div>\n",
       "<style scoped>\n",
       "    .dataframe tbody tr th:only-of-type {\n",
       "        vertical-align: middle;\n",
       "    }\n",
       "\n",
       "    .dataframe tbody tr th {\n",
       "        vertical-align: top;\n",
       "    }\n",
       "\n",
       "    .dataframe thead th {\n",
       "        text-align: right;\n",
       "    }\n",
       "</style>\n",
       "<table border=\"1\" class=\"dataframe\">\n",
       "  <thead>\n",
       "    <tr style=\"text-align: right;\">\n",
       "      <th></th>\n",
       "      <th>법정동</th>\n",
       "      <th>자동차등록대수</th>\n",
       "    </tr>\n",
       "  </thead>\n",
       "  <tbody>\n",
       "    <tr>\n",
       "      <th>0</th>\n",
       "      <td>중곡동</td>\n",
       "      <td>21340</td>\n",
       "    </tr>\n",
       "    <tr>\n",
       "      <th>1</th>\n",
       "      <td>군자동</td>\n",
       "      <td>5223</td>\n",
       "    </tr>\n",
       "    <tr>\n",
       "      <th>2</th>\n",
       "      <td>능동</td>\n",
       "      <td>3060</td>\n",
       "    </tr>\n",
       "    <tr>\n",
       "      <th>3</th>\n",
       "      <td>구의동</td>\n",
       "      <td>23478</td>\n",
       "    </tr>\n",
       "    <tr>\n",
       "      <th>4</th>\n",
       "      <td>광장동</td>\n",
       "      <td>11646</td>\n",
       "    </tr>\n",
       "    <tr>\n",
       "      <th>5</th>\n",
       "      <td>화양동</td>\n",
       "      <td>4186</td>\n",
       "    </tr>\n",
       "    <tr>\n",
       "      <th>6</th>\n",
       "      <td>자양동</td>\n",
       "      <td>28952</td>\n",
       "    </tr>\n",
       "  </tbody>\n",
       "</table>\n",
       "</div>"
      ],
      "text/plain": [
       "   법정동  자동차등록대수\n",
       "0  중곡동    21340\n",
       "1  군자동     5223\n",
       "2   능동     3060\n",
       "3  구의동    23478\n",
       "4  광장동    11646\n",
       "5  화양동     4186\n",
       "6  자양동    28952"
      ]
     },
     "execution_count": 12,
     "metadata": {},
     "output_type": "execute_result"
    }
   ],
   "source": [
    "car = pd.read_csv('법정동별_차량등록대수.csv')\n",
    "car"
   ]
  },
  {
   "cell_type": "code",
   "execution_count": 13,
   "id": "5cd0f26d",
   "metadata": {},
   "outputs": [
    {
     "data": {
      "text/plain": [
       "0    29.189316\n",
       "1    21.558491\n",
       "2    32.352941\n",
       "3    15.819065\n",
       "4     4.516572\n",
       "5    30.960344\n",
       "6    15.194114\n",
       "dtype: float64"
      ]
     },
     "execution_count": 13,
     "metadata": {},
     "output_type": "execute_result"
    }
   ],
   "source": [
    "data = (parking['총 주차면수']/car['자동차등록대수'])*100\n",
    "data"
   ]
  },
  {
   "cell_type": "code",
   "execution_count": 14,
   "id": "a3dfd04e",
   "metadata": {},
   "outputs": [
    {
     "data": {
      "text/html": [
       "<div>\n",
       "<style scoped>\n",
       "    .dataframe tbody tr th:only-of-type {\n",
       "        vertical-align: middle;\n",
       "    }\n",
       "\n",
       "    .dataframe tbody tr th {\n",
       "        vertical-align: top;\n",
       "    }\n",
       "\n",
       "    .dataframe thead th {\n",
       "        text-align: right;\n",
       "    }\n",
       "</style>\n",
       "<table border=\"1\" class=\"dataframe\">\n",
       "  <thead>\n",
       "    <tr style=\"text-align: right;\">\n",
       "      <th></th>\n",
       "      <th>법정동</th>\n",
       "      <th>주차장 확보율</th>\n",
       "    </tr>\n",
       "  </thead>\n",
       "  <tbody>\n",
       "    <tr>\n",
       "      <th>0</th>\n",
       "      <td>중곡동</td>\n",
       "      <td>29.189316</td>\n",
       "    </tr>\n",
       "    <tr>\n",
       "      <th>1</th>\n",
       "      <td>군자동</td>\n",
       "      <td>21.558491</td>\n",
       "    </tr>\n",
       "    <tr>\n",
       "      <th>2</th>\n",
       "      <td>능동</td>\n",
       "      <td>32.352941</td>\n",
       "    </tr>\n",
       "    <tr>\n",
       "      <th>3</th>\n",
       "      <td>구의동</td>\n",
       "      <td>15.819065</td>\n",
       "    </tr>\n",
       "    <tr>\n",
       "      <th>4</th>\n",
       "      <td>광장동</td>\n",
       "      <td>4.516572</td>\n",
       "    </tr>\n",
       "    <tr>\n",
       "      <th>5</th>\n",
       "      <td>화양동</td>\n",
       "      <td>30.960344</td>\n",
       "    </tr>\n",
       "    <tr>\n",
       "      <th>6</th>\n",
       "      <td>자양동</td>\n",
       "      <td>15.194114</td>\n",
       "    </tr>\n",
       "  </tbody>\n",
       "</table>\n",
       "</div>"
      ],
      "text/plain": [
       "   법정동    주차장 확보율\n",
       "0  중곡동  29.189316\n",
       "1  군자동  21.558491\n",
       "2   능동  32.352941\n",
       "3  구의동  15.819065\n",
       "4  광장동   4.516572\n",
       "5  화양동  30.960344\n",
       "6  자양동  15.194114"
      ]
     },
     "execution_count": 14,
     "metadata": {},
     "output_type": "execute_result"
    }
   ],
   "source": [
    "dong = ['중곡동', '군자동', '능동', '구의동', '광장동', '화양동', '자양동']\n",
    "\n",
    "\n",
    "df = pd.DataFrame(dong, columns=['법정동'])\n",
    "df['주차장 확보율'] = (parking['총 주차면수']/car['자동차등록대수'])*100\n",
    "df"
   ]
  },
  {
   "cell_type": "code",
   "execution_count": 17,
   "id": "d74de634",
   "metadata": {},
   "outputs": [
    {
     "data": {
      "text/html": [
       "<div>\n",
       "<style scoped>\n",
       "    .dataframe tbody tr th:only-of-type {\n",
       "        vertical-align: middle;\n",
       "    }\n",
       "\n",
       "    .dataframe tbody tr th {\n",
       "        vertical-align: top;\n",
       "    }\n",
       "\n",
       "    .dataframe thead th {\n",
       "        text-align: right;\n",
       "    }\n",
       "</style>\n",
       "<table border=\"1\" class=\"dataframe\">\n",
       "  <thead>\n",
       "    <tr style=\"text-align: right;\">\n",
       "      <th></th>\n",
       "      <th>주차장 확보율</th>\n",
       "    </tr>\n",
       "    <tr>\n",
       "      <th>법정동</th>\n",
       "      <th></th>\n",
       "    </tr>\n",
       "  </thead>\n",
       "  <tbody>\n",
       "    <tr>\n",
       "      <th>중곡동</th>\n",
       "      <td>29.189316</td>\n",
       "    </tr>\n",
       "    <tr>\n",
       "      <th>군자동</th>\n",
       "      <td>21.558491</td>\n",
       "    </tr>\n",
       "    <tr>\n",
       "      <th>능동</th>\n",
       "      <td>32.352941</td>\n",
       "    </tr>\n",
       "    <tr>\n",
       "      <th>구의동</th>\n",
       "      <td>15.819065</td>\n",
       "    </tr>\n",
       "    <tr>\n",
       "      <th>광장동</th>\n",
       "      <td>4.516572</td>\n",
       "    </tr>\n",
       "    <tr>\n",
       "      <th>화양동</th>\n",
       "      <td>30.960344</td>\n",
       "    </tr>\n",
       "    <tr>\n",
       "      <th>자양동</th>\n",
       "      <td>15.194114</td>\n",
       "    </tr>\n",
       "  </tbody>\n",
       "</table>\n",
       "</div>"
      ],
      "text/plain": [
       "       주차장 확보율\n",
       "법정동           \n",
       "중곡동  29.189316\n",
       "군자동  21.558491\n",
       "능동   32.352941\n",
       "구의동  15.819065\n",
       "광장동   4.516572\n",
       "화양동  30.960344\n",
       "자양동  15.194114"
      ]
     },
     "execution_count": 17,
     "metadata": {},
     "output_type": "execute_result"
    }
   ],
   "source": [
    "da = df.set_index(\"법정동\")\n",
    "da"
   ]
  },
  {
   "cell_type": "code",
   "execution_count": 16,
   "id": "fdac2fff",
   "metadata": {},
   "outputs": [
    {
     "ename": "NameError",
     "evalue": "name 'index' is not defined",
     "output_type": "error",
     "traceback": [
      "\u001b[1;31m---------------------------------------------------------------------------\u001b[0m",
      "\u001b[1;31mNameError\u001b[0m                                 Traceback (most recent call last)",
      "\u001b[1;32m~\\AppData\\Local\\Temp\\ipykernel_16692\\2406142263.py\u001b[0m in \u001b[0;36m<module>\u001b[1;34m\u001b[0m\n\u001b[1;32m----> 1\u001b[1;33m \u001b[1;32mdel\u001b[0m \u001b[0mindex\u001b[0m\u001b[1;33m\u001b[0m\u001b[1;33m\u001b[0m\u001b[0m\n\u001b[0m\u001b[0;32m      2\u001b[0m \u001b[0mdf\u001b[0m\u001b[1;33m\u001b[0m\u001b[1;33m\u001b[0m\u001b[0m\n",
      "\u001b[1;31mNameError\u001b[0m: name 'index' is not defined"
     ]
    }
   ],
   "source": [
    "del index\n",
    "df"
   ]
  },
  {
   "cell_type": "code",
   "execution_count": null,
   "id": "0baea698",
   "metadata": {},
   "outputs": [],
   "source": []
  }
 ],
 "metadata": {
  "kernelspec": {
   "display_name": "Python 3 (ipykernel)",
   "language": "python",
   "name": "python3"
  },
  "language_info": {
   "codemirror_mode": {
    "name": "ipython",
    "version": 3
   },
   "file_extension": ".py",
   "mimetype": "text/x-python",
   "name": "python",
   "nbconvert_exporter": "python",
   "pygments_lexer": "ipython3",
   "version": "3.9.13"
  }
 },
 "nbformat": 4,
 "nbformat_minor": 5
}
