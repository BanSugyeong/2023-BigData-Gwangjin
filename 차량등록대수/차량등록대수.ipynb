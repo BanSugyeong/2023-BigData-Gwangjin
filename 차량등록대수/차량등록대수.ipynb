{
 "cells": [
  {
   "cell_type": "markdown",
   "id": "d7c8c21c",
   "metadata": {},
   "source": [
    "## 차량등록대수"
   ]
  },
  {
   "cell_type": "code",
   "execution_count": 109,
   "id": "6e1bf714",
   "metadata": {},
   "outputs": [
    {
     "data": {
      "text/html": [
       "<div>\n",
       "<style scoped>\n",
       "    .dataframe tbody tr th:only-of-type {\n",
       "        vertical-align: middle;\n",
       "    }\n",
       "\n",
       "    .dataframe tbody tr th {\n",
       "        vertical-align: top;\n",
       "    }\n",
       "\n",
       "    .dataframe thead th {\n",
       "        text-align: right;\n",
       "    }\n",
       "</style>\n",
       "<table border=\"1\" class=\"dataframe\">\n",
       "  <thead>\n",
       "    <tr style=\"text-align: right;\">\n",
       "      <th></th>\n",
       "      <th>광장동</th>\n",
       "      <th>구의1동</th>\n",
       "      <th>구의2동</th>\n",
       "      <th>구의3동</th>\n",
       "      <th>군자동</th>\n",
       "      <th>능동</th>\n",
       "      <th>자양1동</th>\n",
       "      <th>자양2동</th>\n",
       "      <th>자양3동</th>\n",
       "      <th>자양4동</th>\n",
       "      <th>중곡1동</th>\n",
       "      <th>중곡2동</th>\n",
       "      <th>중곡3동</th>\n",
       "      <th>중곡4동</th>\n",
       "      <th>화양동</th>\n",
       "    </tr>\n",
       "    <tr>\n",
       "      <th>법정동</th>\n",
       "      <th></th>\n",
       "      <th></th>\n",
       "      <th></th>\n",
       "      <th></th>\n",
       "      <th></th>\n",
       "      <th></th>\n",
       "      <th></th>\n",
       "      <th></th>\n",
       "      <th></th>\n",
       "      <th></th>\n",
       "      <th></th>\n",
       "      <th></th>\n",
       "      <th></th>\n",
       "      <th></th>\n",
       "      <th></th>\n",
       "    </tr>\n",
       "  </thead>\n",
       "  <tbody>\n",
       "    <tr>\n",
       "      <th>자동차등록대수</th>\n",
       "      <td>11646</td>\n",
       "      <td>7005</td>\n",
       "      <td>7346</td>\n",
       "      <td>9127</td>\n",
       "      <td>5223</td>\n",
       "      <td>3060</td>\n",
       "      <td>7366</td>\n",
       "      <td>7598</td>\n",
       "      <td>8970</td>\n",
       "      <td>5018</td>\n",
       "      <td>4753</td>\n",
       "      <td>5132</td>\n",
       "      <td>4073</td>\n",
       "      <td>7382</td>\n",
       "      <td>4186</td>\n",
       "    </tr>\n",
       "  </tbody>\n",
       "</table>\n",
       "</div>"
      ],
      "text/plain": [
       "           광장동  구의1동  구의2동  구의3동   군자동    능동  자양1동  자양2동  자양3동  자양4동  중곡1동  \\\n",
       "법정동                                                                          \n",
       "자동차등록대수  11646  7005  7346  9127  5223  3060  7366  7598  8970  5018  4753   \n",
       "\n",
       "         중곡2동  중곡3동  중곡4동   화양동  \n",
       "법정동                              \n",
       "자동차등록대수  5132  4073  7382  4186  "
      ]
     },
     "execution_count": 109,
     "metadata": {},
     "output_type": "execute_result"
    }
   ],
   "source": [
    "import pandas as pd\n",
    "import numpy as np\n",
    "import os\n",
    "import matplotlib.pyplot as plt\n",
    "%matplotlib inline\n",
    "\n",
    "car = pd.read_csv(\"광진구_자동차등록대수_20230330.csv\", encoding='utf-8', index_col=0)\n",
    "car"
   ]
  },
  {
   "cell_type": "code",
   "execution_count": 110,
   "id": "690cc5d2",
   "metadata": {
    "scrolled": true
   },
   "outputs": [],
   "source": [
    "car['구의동'] = car['구의1동']+car['구의2동']+car['구의3동']\n",
    "car['자양동'] = car['자양1동']+car['자양2동']+car['자양3동']+car['자양4동']\n",
    "car['중곡동'] = car['중곡1동']+car['중곡2동']+car['중곡3동']+car['중곡4동']"
   ]
  },
  {
   "cell_type": "code",
   "execution_count": 111,
   "id": "ec514d83",
   "metadata": {},
   "outputs": [
    {
     "data": {
      "text/html": [
       "<div>\n",
       "<style scoped>\n",
       "    .dataframe tbody tr th:only-of-type {\n",
       "        vertical-align: middle;\n",
       "    }\n",
       "\n",
       "    .dataframe tbody tr th {\n",
       "        vertical-align: top;\n",
       "    }\n",
       "\n",
       "    .dataframe thead th {\n",
       "        text-align: right;\n",
       "    }\n",
       "</style>\n",
       "<table border=\"1\" class=\"dataframe\">\n",
       "  <thead>\n",
       "    <tr style=\"text-align: right;\">\n",
       "      <th></th>\n",
       "      <th>광장동</th>\n",
       "      <th>군자동</th>\n",
       "      <th>능동</th>\n",
       "      <th>화양동</th>\n",
       "      <th>구의동</th>\n",
       "      <th>자양동</th>\n",
       "      <th>중곡동</th>\n",
       "    </tr>\n",
       "    <tr>\n",
       "      <th>법정동</th>\n",
       "      <th></th>\n",
       "      <th></th>\n",
       "      <th></th>\n",
       "      <th></th>\n",
       "      <th></th>\n",
       "      <th></th>\n",
       "      <th></th>\n",
       "    </tr>\n",
       "  </thead>\n",
       "  <tbody>\n",
       "    <tr>\n",
       "      <th>자동차등록대수</th>\n",
       "      <td>11646</td>\n",
       "      <td>5223</td>\n",
       "      <td>3060</td>\n",
       "      <td>4186</td>\n",
       "      <td>23478</td>\n",
       "      <td>28952</td>\n",
       "      <td>21340</td>\n",
       "    </tr>\n",
       "  </tbody>\n",
       "</table>\n",
       "</div>"
      ],
      "text/plain": [
       "           광장동   군자동    능동   화양동    구의동    자양동    중곡동\n",
       "법정동                                                  \n",
       "자동차등록대수  11646  5223  3060  4186  23478  28952  21340"
      ]
     },
     "execution_count": 111,
     "metadata": {},
     "output_type": "execute_result"
    }
   ],
   "source": [
    "del car['구의1동'], car['구의2동'], car['구의3동'], car['자양1동'], car['자양2동'], car['자양3동'], car['자양4동'], car['중곡1동'], car['중곡2동'], car['중곡3동'], car['중곡4동']\n",
    "\n",
    "car"
   ]
  },
  {
   "cell_type": "code",
   "execution_count": 113,
   "id": "1adfcb6f",
   "metadata": {},
   "outputs": [
    {
     "data": {
      "text/html": [
       "<div>\n",
       "<style scoped>\n",
       "    .dataframe tbody tr th:only-of-type {\n",
       "        vertical-align: middle;\n",
       "    }\n",
       "\n",
       "    .dataframe tbody tr th {\n",
       "        vertical-align: top;\n",
       "    }\n",
       "\n",
       "    .dataframe thead th {\n",
       "        text-align: right;\n",
       "    }\n",
       "</style>\n",
       "<table border=\"1\" class=\"dataframe\">\n",
       "  <thead>\n",
       "    <tr style=\"text-align: right;\">\n",
       "      <th></th>\n",
       "      <th>중곡동</th>\n",
       "      <th>군자동</th>\n",
       "      <th>능동</th>\n",
       "      <th>구의동</th>\n",
       "      <th>광장동</th>\n",
       "      <th>화양동</th>\n",
       "      <th>자양동</th>\n",
       "    </tr>\n",
       "    <tr>\n",
       "      <th>법정동</th>\n",
       "      <th></th>\n",
       "      <th></th>\n",
       "      <th></th>\n",
       "      <th></th>\n",
       "      <th></th>\n",
       "      <th></th>\n",
       "      <th></th>\n",
       "    </tr>\n",
       "  </thead>\n",
       "  <tbody>\n",
       "    <tr>\n",
       "      <th>자동차등록대수</th>\n",
       "      <td>21340</td>\n",
       "      <td>5223</td>\n",
       "      <td>3060</td>\n",
       "      <td>23478</td>\n",
       "      <td>11646</td>\n",
       "      <td>4186</td>\n",
       "      <td>28952</td>\n",
       "    </tr>\n",
       "  </tbody>\n",
       "</table>\n",
       "</div>"
      ],
      "text/plain": [
       "           중곡동   군자동    능동    구의동    광장동   화양동    자양동\n",
       "법정동                                                  \n",
       "자동차등록대수  21340  5223  3060  23478  11646  4186  28952"
      ]
     },
     "execution_count": 113,
     "metadata": {},
     "output_type": "execute_result"
    }
   ],
   "source": [
    "car = car[['중곡동', '군자동', '능동', '구의동', '광장동', '화양동', '자양동']]\n",
    "car"
   ]
  },
  {
   "cell_type": "code",
   "execution_count": 114,
   "id": "da8ee12a",
   "metadata": {},
   "outputs": [],
   "source": [
    "car1 = car.transpose()"
   ]
  },
  {
   "cell_type": "code",
   "execution_count": 115,
   "id": "5d5eb1a8",
   "metadata": {},
   "outputs": [
    {
     "data": {
      "text/html": [
       "<div>\n",
       "<style scoped>\n",
       "    .dataframe tbody tr th:only-of-type {\n",
       "        vertical-align: middle;\n",
       "    }\n",
       "\n",
       "    .dataframe tbody tr th {\n",
       "        vertical-align: top;\n",
       "    }\n",
       "\n",
       "    .dataframe thead th {\n",
       "        text-align: right;\n",
       "    }\n",
       "</style>\n",
       "<table border=\"1\" class=\"dataframe\">\n",
       "  <thead>\n",
       "    <tr style=\"text-align: right;\">\n",
       "      <th>법정동</th>\n",
       "      <th>자동차등록대수</th>\n",
       "    </tr>\n",
       "  </thead>\n",
       "  <tbody>\n",
       "    <tr>\n",
       "      <th>중곡동</th>\n",
       "      <td>21340</td>\n",
       "    </tr>\n",
       "    <tr>\n",
       "      <th>군자동</th>\n",
       "      <td>5223</td>\n",
       "    </tr>\n",
       "    <tr>\n",
       "      <th>능동</th>\n",
       "      <td>3060</td>\n",
       "    </tr>\n",
       "    <tr>\n",
       "      <th>구의동</th>\n",
       "      <td>23478</td>\n",
       "    </tr>\n",
       "    <tr>\n",
       "      <th>광장동</th>\n",
       "      <td>11646</td>\n",
       "    </tr>\n",
       "    <tr>\n",
       "      <th>화양동</th>\n",
       "      <td>4186</td>\n",
       "    </tr>\n",
       "    <tr>\n",
       "      <th>자양동</th>\n",
       "      <td>28952</td>\n",
       "    </tr>\n",
       "  </tbody>\n",
       "</table>\n",
       "</div>"
      ],
      "text/plain": [
       "법정동  자동차등록대수\n",
       "중곡동    21340\n",
       "군자동     5223\n",
       "능동      3060\n",
       "구의동    23478\n",
       "광장동    11646\n",
       "화양동     4186\n",
       "자양동    28952"
      ]
     },
     "execution_count": 115,
     "metadata": {},
     "output_type": "execute_result"
    }
   ],
   "source": [
    "car1.to_csv('법정동별_차량등록대수.csv', encoding='utf-8')\n",
    "car1"
   ]
  },
  {
   "cell_type": "code",
   "execution_count": 116,
   "id": "c0cf6421",
   "metadata": {},
   "outputs": [
    {
     "data": {
      "text/plain": [
       "Text(0, 0.5, '자동차등록대수')"
      ]
     },
     "execution_count": 116,
     "metadata": {},
     "output_type": "execute_result"
    },
    {
     "data": {
      "image/png": "[encoded data removed]",
      "text/plain": [
       "<Figure size 900x600 with 1 Axes>"
      ]
     },
     "metadata": {},
     "output_type": "display_data"
    }
   ],
   "source": [
    "plt.rcParams['font.family'] = 'Malgun Gothic'\n",
    "ax = car1.plot(kind='bar', title='광진구 자동차등록대수', figsize=(9,6), legend=True, fontsize=12)\n",
    "ax.set_xlabel('법정동', fontsize=12)\n",
    "ax.set_ylabel('자동차등록대수', fontsize=12)"
   ]
  },
  {
   "cell_type": "code",
   "execution_count": null,
   "id": "54d8817c",
   "metadata": {},
   "outputs": [],
   "source": []
  }
 ],
 "metadata": {
  "kernelspec": {
   "display_name": "Python 3 (ipykernel)",
   "language": "python",
   "name": "python3"
  },
  "language_info": {
   "codemirror_mode": {
    "name": "ipython",
    "version": 3
   },
   "file_extension": ".py",
   "mimetype": "text/x-python",
   "name": "python",
   "nbconvert_exporter": "python",
   "pygments_lexer": "ipython3",
   "version": "3.9.13"
  }
 },
 "nbformat": 4,
 "nbformat_minor": 5
}
