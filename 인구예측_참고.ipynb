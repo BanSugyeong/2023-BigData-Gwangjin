{
 "cells": [
  {
   "cell_type": "markdown",
   "id": "e2a214fd",
   "metadata": {},
   "source": [
    "## 인구 예측 \n",
    "- Prophet 라이브러리사용"
   ]
  },
  {
   "cell_type": "code",
   "execution_count": 26,
   "id": "7e912fe8",
   "metadata": {},
   "outputs": [
    {
     "data": {
      "text/html": [
       "<div>\n",
       "<style scoped>\n",
       "    .dataframe tbody tr th:only-of-type {\n",
       "        vertical-align: middle;\n",
       "    }\n",
       "\n",
       "    .dataframe tbody tr th {\n",
       "        vertical-align: top;\n",
       "    }\n",
       "\n",
       "    .dataframe thead th {\n",
       "        text-align: right;\n",
       "    }\n",
       "</style>\n",
       "<table border=\"1\" class=\"dataframe\">\n",
       "  <thead>\n",
       "    <tr style=\"text-align: right;\">\n",
       "      <th></th>\n",
       "      <th>Date</th>\n",
       "      <th>학성동</th>\n",
       "      <th>반구1동</th>\n",
       "      <th>반구2동</th>\n",
       "      <th>복산1동</th>\n",
       "      <th>복산2동</th>\n",
       "      <th>중앙동</th>\n",
       "      <th>우정동</th>\n",
       "      <th>태화동</th>\n",
       "      <th>다운동</th>\n",
       "      <th>병영1동</th>\n",
       "      <th>병영2동</th>\n",
       "      <th>약사동</th>\n",
       "      <th>성안동</th>\n",
       "    </tr>\n",
       "  </thead>\n",
       "  <tbody>\n",
       "    <tr>\n",
       "      <th>0</th>\n",
       "      <td>201701</td>\n",
       "      <td>10840</td>\n",
       "      <td>19522</td>\n",
       "      <td>9660</td>\n",
       "      <td>8771</td>\n",
       "      <td>10670</td>\n",
       "      <td>16026</td>\n",
       "      <td>22018</td>\n",
       "      <td>36561</td>\n",
       "      <td>27935</td>\n",
       "      <td>25463</td>\n",
       "      <td>22536</td>\n",
       "      <td>9930</td>\n",
       "      <td>22154</td>\n",
       "    </tr>\n",
       "    <tr>\n",
       "      <th>1</th>\n",
       "      <td>201702</td>\n",
       "      <td>10831</td>\n",
       "      <td>19476</td>\n",
       "      <td>9681</td>\n",
       "      <td>8697</td>\n",
       "      <td>10662</td>\n",
       "      <td>15935</td>\n",
       "      <td>21894</td>\n",
       "      <td>36476</td>\n",
       "      <td>27836</td>\n",
       "      <td>25361</td>\n",
       "      <td>22550</td>\n",
       "      <td>10307</td>\n",
       "      <td>22121</td>\n",
       "    </tr>\n",
       "    <tr>\n",
       "      <th>2</th>\n",
       "      <td>201703</td>\n",
       "      <td>10802</td>\n",
       "      <td>19422</td>\n",
       "      <td>9725</td>\n",
       "      <td>8582</td>\n",
       "      <td>10645</td>\n",
       "      <td>15873</td>\n",
       "      <td>21851</td>\n",
       "      <td>36356</td>\n",
       "      <td>27728</td>\n",
       "      <td>25263</td>\n",
       "      <td>22540</td>\n",
       "      <td>10742</td>\n",
       "      <td>22092</td>\n",
       "    </tr>\n",
       "    <tr>\n",
       "      <th>3</th>\n",
       "      <td>201704</td>\n",
       "      <td>10779</td>\n",
       "      <td>19413</td>\n",
       "      <td>9716</td>\n",
       "      <td>8484</td>\n",
       "      <td>10600</td>\n",
       "      <td>15857</td>\n",
       "      <td>21797</td>\n",
       "      <td>36335</td>\n",
       "      <td>27659</td>\n",
       "      <td>25245</td>\n",
       "      <td>22511</td>\n",
       "      <td>10998</td>\n",
       "      <td>22104</td>\n",
       "    </tr>\n",
       "    <tr>\n",
       "      <th>4</th>\n",
       "      <td>201705</td>\n",
       "      <td>10772</td>\n",
       "      <td>19367</td>\n",
       "      <td>9706</td>\n",
       "      <td>8376</td>\n",
       "      <td>10624</td>\n",
       "      <td>15812</td>\n",
       "      <td>21773</td>\n",
       "      <td>36324</td>\n",
       "      <td>27561</td>\n",
       "      <td>25202</td>\n",
       "      <td>22530</td>\n",
       "      <td>11136</td>\n",
       "      <td>22137</td>\n",
       "    </tr>\n",
       "    <tr>\n",
       "      <th>...</th>\n",
       "      <td>...</td>\n",
       "      <td>...</td>\n",
       "      <td>...</td>\n",
       "      <td>...</td>\n",
       "      <td>...</td>\n",
       "      <td>...</td>\n",
       "      <td>...</td>\n",
       "      <td>...</td>\n",
       "      <td>...</td>\n",
       "      <td>...</td>\n",
       "      <td>...</td>\n",
       "      <td>...</td>\n",
       "      <td>...</td>\n",
       "      <td>...</td>\n",
       "    </tr>\n",
       "    <tr>\n",
       "      <th>65</th>\n",
       "      <td>202206</td>\n",
       "      <td>11181</td>\n",
       "      <td>16494</td>\n",
       "      <td>8582</td>\n",
       "      <td>4105</td>\n",
       "      <td>11004</td>\n",
       "      <td>12433</td>\n",
       "      <td>17872</td>\n",
       "      <td>32710</td>\n",
       "      <td>22555</td>\n",
       "      <td>21768</td>\n",
       "      <td>20194</td>\n",
       "      <td>10733</td>\n",
       "      <td>20723</td>\n",
       "    </tr>\n",
       "    <tr>\n",
       "      <th>66</th>\n",
       "      <td>202207</td>\n",
       "      <td>11154</td>\n",
       "      <td>16478</td>\n",
       "      <td>8584</td>\n",
       "      <td>4080</td>\n",
       "      <td>10986</td>\n",
       "      <td>12400</td>\n",
       "      <td>17838</td>\n",
       "      <td>32672</td>\n",
       "      <td>22555</td>\n",
       "      <td>21723</td>\n",
       "      <td>20167</td>\n",
       "      <td>10763</td>\n",
       "      <td>20715</td>\n",
       "    </tr>\n",
       "    <tr>\n",
       "      <th>67</th>\n",
       "      <td>202208</td>\n",
       "      <td>11142</td>\n",
       "      <td>16435</td>\n",
       "      <td>8573</td>\n",
       "      <td>4048</td>\n",
       "      <td>10973</td>\n",
       "      <td>12308</td>\n",
       "      <td>17787</td>\n",
       "      <td>32635</td>\n",
       "      <td>22511</td>\n",
       "      <td>21663</td>\n",
       "      <td>20097</td>\n",
       "      <td>10762</td>\n",
       "      <td>20708</td>\n",
       "    </tr>\n",
       "    <tr>\n",
       "      <th>68</th>\n",
       "      <td>202209</td>\n",
       "      <td>11092</td>\n",
       "      <td>16391</td>\n",
       "      <td>8564</td>\n",
       "      <td>3998</td>\n",
       "      <td>10959</td>\n",
       "      <td>12220</td>\n",
       "      <td>17756</td>\n",
       "      <td>32572</td>\n",
       "      <td>22419</td>\n",
       "      <td>21615</td>\n",
       "      <td>20110</td>\n",
       "      <td>10755</td>\n",
       "      <td>20669</td>\n",
       "    </tr>\n",
       "    <tr>\n",
       "      <th>69</th>\n",
       "      <td>202210</td>\n",
       "      <td>11081</td>\n",
       "      <td>16387</td>\n",
       "      <td>8548</td>\n",
       "      <td>3969</td>\n",
       "      <td>10959</td>\n",
       "      <td>12179</td>\n",
       "      <td>17716</td>\n",
       "      <td>32550</td>\n",
       "      <td>22352</td>\n",
       "      <td>21606</td>\n",
       "      <td>20057</td>\n",
       "      <td>10757</td>\n",
       "      <td>20685</td>\n",
       "    </tr>\n",
       "  </tbody>\n",
       "</table>\n",
       "<p>70 rows × 14 columns</p>\n",
       "</div>"
      ],
      "text/plain": [
       "      Date    학성동   반구1동  반구2동  복산1동   복산2동    중앙동    우정동    태화동    다운동  \\\n",
       "0   201701  10840  19522  9660  8771  10670  16026  22018  36561  27935   \n",
       "1   201702  10831  19476  9681  8697  10662  15935  21894  36476  27836   \n",
       "2   201703  10802  19422  9725  8582  10645  15873  21851  36356  27728   \n",
       "3   201704  10779  19413  9716  8484  10600  15857  21797  36335  27659   \n",
       "4   201705  10772  19367  9706  8376  10624  15812  21773  36324  27561   \n",
       "..     ...    ...    ...   ...   ...    ...    ...    ...    ...    ...   \n",
       "65  202206  11181  16494  8582  4105  11004  12433  17872  32710  22555   \n",
       "66  202207  11154  16478  8584  4080  10986  12400  17838  32672  22555   \n",
       "67  202208  11142  16435  8573  4048  10973  12308  17787  32635  22511   \n",
       "68  202209  11092  16391  8564  3998  10959  12220  17756  32572  22419   \n",
       "69  202210  11081  16387  8548  3969  10959  12179  17716  32550  22352   \n",
       "\n",
       "     병영1동   병영2동    약사동    성안동  \n",
       "0   25463  22536   9930  22154  \n",
       "1   25361  22550  10307  22121  \n",
       "2   25263  22540  10742  22092  \n",
       "3   25245  22511  10998  22104  \n",
       "4   25202  22530  11136  22137  \n",
       "..    ...    ...    ...    ...  \n",
       "65  21768  20194  10733  20723  \n",
       "66  21723  20167  10763  20715  \n",
       "67  21663  20097  10762  20708  \n",
       "68  21615  20110  10755  20669  \n",
       "69  21606  20057  10757  20685  \n",
       "\n",
       "[70 rows x 14 columns]"
      ]
     },
     "execution_count": 26,
     "metadata": {},
     "output_type": "execute_result"
    }
   ],
   "source": [
    "import pandas as pd\n",
    "import numpy as np\n",
    "import seaborn as sns\n",
    "import datetime\n",
    "import warnings\n",
    "warnings.filterwarnings('always')\n",
    "warnings.filterwarnings('ignore')\n",
    "\n",
    "df = pd.read_csv('202210_201701_행정동별인구수.csv', encoding='cp949')\n",
    "df"
   ]
  },
  {
   "cell_type": "code",
   "execution_count": 27,
   "id": "934dc707",
   "metadata": {},
   "outputs": [],
   "source": [
    "from prophet import Prophet\n",
    "dong_name = ['학성동', '반구1동', '반구2동', '복산1동', '복산2동', '중앙동', '우정동', '태화동', '다운동', '병영1동', '병영2동', '약사동', '성안동', 'Date']\n",
    "\n",
    "last_3year = list()\n",
    "for i in range(2022, 2025):\n",
    "    for j in range(1, 13):\n",
    "        last_3year.append(['%04d-%02d' % (i,j)])\n",
    "        \n",
    "for i in range(2025, 2026):\n",
    "    for j in range(1, 11):\n",
    "        last_3year.append(['%04d-%02d' % (i,j)])\n",
    "        \n",
    "        \n",
    "last_3year = pd.DataFrame(last_3year, columns = ['ds'])\n",
    "last_3year['ds']= pd.to_datetime(last_3year['ds'])"
   ]
  },
  {
   "cell_type": "code",
   "execution_count": 28,
   "id": "7a672edd",
   "metadata": {},
   "outputs": [
    {
     "data": {
      "text/plain": [
       "0    2017-01-01\n",
       "1    2017-02-01\n",
       "2    2017-03-01\n",
       "3    2017-04-01\n",
       "4    2017-05-01\n",
       "        ...    \n",
       "65   2022-06-01\n",
       "66   2022-07-01\n",
       "67   2022-08-01\n",
       "68   2022-09-01\n",
       "69   2022-10-01\n",
       "Name: Date, Length: 70, dtype: datetime64[ns]"
      ]
     },
     "execution_count": 28,
     "metadata": {},
     "output_type": "execute_result"
    }
   ],
   "source": [
    "pd.to_datetime(df['Date'], format='%Y%m')"
   ]
  },
  {
   "cell_type": "code",
   "execution_count": 29,
   "id": "02367224",
   "metadata": {},
   "outputs": [],
   "source": [
    "for i in range(len(df['Date'])):\n",
    "    date_time_str = df['Date'][i]\n",
    "    \n",
    "    date = datetime.datetime.strptime(str(date_time_str), '%Y%m')  #datetime.datetime.strptime(date, \"%Y-%m-%d\")\n",
    "    \n",
    "    df['Date'][i] = date"
   ]
  },
  {
   "cell_type": "code",
   "execution_count": 30,
   "id": "e4ac1e31",
   "metadata": {
    "scrolled": true
   },
   "outputs": [
    {
     "name": "stderr",
     "output_type": "stream",
     "text": [
      "22:47:52 - cmdstanpy - INFO - Chain [1] start processing\n",
      "22:47:53 - cmdstanpy - INFO - Chain [1] done processing\n"
     ]
    },
    {
     "name": "stdout",
     "output_type": "stream",
     "text": [
      "0 model_fit\n"
     ]
    },
    {
     "name": "stderr",
     "output_type": "stream",
     "text": [
      "22:47:53 - cmdstanpy - INFO - Chain [1] start processing\n"
     ]
    },
    {
     "name": "stdout",
     "output_type": "stream",
     "text": [
      "0 model_predict\n"
     ]
    },
    {
     "name": "stderr",
     "output_type": "stream",
     "text": [
      "22:47:54 - cmdstanpy - INFO - Chain [1] done processing\n"
     ]
    },
    {
     "name": "stdout",
     "output_type": "stream",
     "text": [
      "1 model_fit\n"
     ]
    },
    {
     "name": "stderr",
     "output_type": "stream",
     "text": [
      "22:47:54 - cmdstanpy - INFO - Chain [1] start processing\n"
     ]
    },
    {
     "name": "stdout",
     "output_type": "stream",
     "text": [
      "1 model_predict\n"
     ]
    },
    {
     "name": "stderr",
     "output_type": "stream",
     "text": [
      "22:47:54 - cmdstanpy - INFO - Chain [1] done processing\n"
     ]
    },
    {
     "name": "stdout",
     "output_type": "stream",
     "text": [
      "2 model_fit\n"
     ]
    },
    {
     "name": "stderr",
     "output_type": "stream",
     "text": [
      "22:47:55 - cmdstanpy - INFO - Chain [1] start processing\n"
     ]
    },
    {
     "name": "stdout",
     "output_type": "stream",
     "text": [
      "2 model_predict\n"
     ]
    },
    {
     "name": "stderr",
     "output_type": "stream",
     "text": [
      "22:47:56 - cmdstanpy - INFO - Chain [1] done processing\n"
     ]
    },
    {
     "name": "stdout",
     "output_type": "stream",
     "text": [
      "3 model_fit\n"
     ]
    },
    {
     "name": "stderr",
     "output_type": "stream",
     "text": [
      "22:47:56 - cmdstanpy - INFO - Chain [1] start processing\n"
     ]
    },
    {
     "name": "stdout",
     "output_type": "stream",
     "text": [
      "3 model_predict\n"
     ]
    },
    {
     "name": "stderr",
     "output_type": "stream",
     "text": [
      "22:47:57 - cmdstanpy - INFO - Chain [1] done processing\n"
     ]
    },
    {
     "name": "stdout",
     "output_type": "stream",
     "text": [
      "4 model_fit\n"
     ]
    },
    {
     "name": "stderr",
     "output_type": "stream",
     "text": [
      "22:47:57 - cmdstanpy - INFO - Chain [1] start processing\n"
     ]
    },
    {
     "name": "stdout",
     "output_type": "stream",
     "text": [
      "4 model_predict\n"
     ]
    },
    {
     "name": "stderr",
     "output_type": "stream",
     "text": [
      "22:47:57 - cmdstanpy - INFO - Chain [1] done processing\n"
     ]
    },
    {
     "name": "stdout",
     "output_type": "stream",
     "text": [
      "5 model_fit\n"
     ]
    },
    {
     "name": "stderr",
     "output_type": "stream",
     "text": [
      "22:47:58 - cmdstanpy - INFO - Chain [1] start processing\n"
     ]
    },
    {
     "name": "stdout",
     "output_type": "stream",
     "text": [
      "5 model_predict\n"
     ]
    },
    {
     "name": "stderr",
     "output_type": "stream",
     "text": [
      "22:47:58 - cmdstanpy - INFO - Chain [1] done processing\n"
     ]
    },
    {
     "name": "stdout",
     "output_type": "stream",
     "text": [
      "6 model_fit\n"
     ]
    },
    {
     "name": "stderr",
     "output_type": "stream",
     "text": [
      "22:47:59 - cmdstanpy - INFO - Chain [1] start processing\n"
     ]
    },
    {
     "name": "stdout",
     "output_type": "stream",
     "text": [
      "6 model_predict\n"
     ]
    },
    {
     "name": "stderr",
     "output_type": "stream",
     "text": [
      "22:47:59 - cmdstanpy - INFO - Chain [1] done processing\n"
     ]
    },
    {
     "name": "stdout",
     "output_type": "stream",
     "text": [
      "7 model_fit\n"
     ]
    },
    {
     "name": "stderr",
     "output_type": "stream",
     "text": [
      "22:47:59 - cmdstanpy - INFO - Chain [1] start processing\n"
     ]
    },
    {
     "name": "stdout",
     "output_type": "stream",
     "text": [
      "7 model_predict\n"
     ]
    },
    {
     "name": "stderr",
     "output_type": "stream",
     "text": [
      "22:48:00 - cmdstanpy - INFO - Chain [1] done processing\n"
     ]
    },
    {
     "name": "stdout",
     "output_type": "stream",
     "text": [
      "8 model_fit\n"
     ]
    },
    {
     "name": "stderr",
     "output_type": "stream",
     "text": [
      "22:48:00 - cmdstanpy - INFO - Chain [1] start processing\n"
     ]
    },
    {
     "name": "stdout",
     "output_type": "stream",
     "text": [
      "8 model_predict\n"
     ]
    },
    {
     "name": "stderr",
     "output_type": "stream",
     "text": [
      "22:48:00 - cmdstanpy - INFO - Chain [1] done processing\n"
     ]
    },
    {
     "name": "stdout",
     "output_type": "stream",
     "text": [
      "9 model_fit\n"
     ]
    },
    {
     "name": "stderr",
     "output_type": "stream",
     "text": [
      "22:48:01 - cmdstanpy - INFO - Chain [1] start processing\n"
     ]
    },
    {
     "name": "stdout",
     "output_type": "stream",
     "text": [
      "9 model_predict\n"
     ]
    },
    {
     "name": "stderr",
     "output_type": "stream",
     "text": [
      "22:48:01 - cmdstanpy - INFO - Chain [1] done processing\n"
     ]
    },
    {
     "name": "stdout",
     "output_type": "stream",
     "text": [
      "10 model_fit\n"
     ]
    },
    {
     "name": "stderr",
     "output_type": "stream",
     "text": [
      "22:48:02 - cmdstanpy - INFO - Chain [1] start processing\n"
     ]
    },
    {
     "name": "stdout",
     "output_type": "stream",
     "text": [
      "10 model_predict\n"
     ]
    },
    {
     "name": "stderr",
     "output_type": "stream",
     "text": [
      "22:48:02 - cmdstanpy - INFO - Chain [1] done processing\n"
     ]
    },
    {
     "name": "stdout",
     "output_type": "stream",
     "text": [
      "11 model_fit\n"
     ]
    },
    {
     "name": "stderr",
     "output_type": "stream",
     "text": [
      "22:48:03 - cmdstanpy - INFO - Chain [1] start processing\n"
     ]
    },
    {
     "name": "stdout",
     "output_type": "stream",
     "text": [
      "11 model_predict\n"
     ]
    },
    {
     "name": "stderr",
     "output_type": "stream",
     "text": [
      "22:48:03 - cmdstanpy - INFO - Chain [1] done processing\n"
     ]
    },
    {
     "name": "stdout",
     "output_type": "stream",
     "text": [
      "12 model_fit\n",
      "12 model_predict\n"
     ]
    },
    {
     "ename": "TypeError",
     "evalue": "Invalid object type at position 0",
     "output_type": "error",
     "traceback": [
      "\u001b[1;31m---------------------------------------------------------------------------\u001b[0m",
      "\u001b[1;31mTypeError\u001b[0m                                 Traceback (most recent call last)",
      "\u001b[1;32m~\\anaconda3\\lib\\site-packages\\pandas\\_libs\\lib.pyx\u001b[0m in \u001b[0;36mpandas._libs.lib.maybe_convert_numeric\u001b[1;34m()\u001b[0m\n",
      "\u001b[1;31mTypeError\u001b[0m: Invalid object type",
      "\nDuring handling of the above exception, another exception occurred:\n",
      "\u001b[1;31mTypeError\u001b[0m                                 Traceback (most recent call last)",
      "\u001b[1;32m~\\AppData\\Local\\Temp\\ipykernel_4464\\1895672398.py\u001b[0m in \u001b[0;36m<module>\u001b[1;34m\u001b[0m\n\u001b[0;32m      9\u001b[0m \u001b[1;31m#    data = df.apply(pd.to_numeric)\u001b[0m\u001b[1;33m\u001b[0m\u001b[1;33m\u001b[0m\u001b[0m\n\u001b[0;32m     10\u001b[0m \u001b[1;33m\u001b[0m\u001b[0m\n\u001b[1;32m---> 11\u001b[1;33m     \u001b[0mmodel\u001b[0m \u001b[1;33m=\u001b[0m \u001b[0mProphet\u001b[0m\u001b[1;33m(\u001b[0m\u001b[1;33m)\u001b[0m\u001b[1;33m.\u001b[0m\u001b[0mfit\u001b[0m\u001b[1;33m(\u001b[0m\u001b[0mdata\u001b[0m\u001b[1;33m)\u001b[0m\u001b[1;33m\u001b[0m\u001b[1;33m\u001b[0m\u001b[0m\n\u001b[0m\u001b[0;32m     12\u001b[0m \u001b[1;31m#    model.fit(data)\u001b[0m\u001b[1;33m\u001b[0m\u001b[1;33m\u001b[0m\u001b[0m\n\u001b[0;32m     13\u001b[0m     \u001b[0mprint\u001b[0m\u001b[1;33m(\u001b[0m\u001b[0mi\u001b[0m\u001b[1;33m,\u001b[0m\u001b[1;34m\"model_fit\"\u001b[0m\u001b[1;33m)\u001b[0m\u001b[1;33m\u001b[0m\u001b[1;33m\u001b[0m\u001b[0m\n",
      "\u001b[1;32m~\\anaconda3\\lib\\site-packages\\prophet\\forecaster.py\u001b[0m in \u001b[0;36mfit\u001b[1;34m(self, df, **kwargs)\u001b[0m\n\u001b[0;32m   1117\u001b[0m         \u001b[0mself\u001b[0m\u001b[1;33m.\u001b[0m\u001b[0mhistory_dates\u001b[0m \u001b[1;33m=\u001b[0m \u001b[0mpd\u001b[0m\u001b[1;33m.\u001b[0m\u001b[0mto_datetime\u001b[0m\u001b[1;33m(\u001b[0m\u001b[0mpd\u001b[0m\u001b[1;33m.\u001b[0m\u001b[0mSeries\u001b[0m\u001b[1;33m(\u001b[0m\u001b[0mdf\u001b[0m\u001b[1;33m[\u001b[0m\u001b[1;34m'ds'\u001b[0m\u001b[1;33m]\u001b[0m\u001b[1;33m.\u001b[0m\u001b[0munique\u001b[0m\u001b[1;33m(\u001b[0m\u001b[1;33m)\u001b[0m\u001b[1;33m,\u001b[0m \u001b[0mname\u001b[0m\u001b[1;33m=\u001b[0m\u001b[1;34m'ds'\u001b[0m\u001b[1;33m)\u001b[0m\u001b[1;33m)\u001b[0m\u001b[1;33m.\u001b[0m\u001b[0msort_values\u001b[0m\u001b[1;33m(\u001b[0m\u001b[1;33m)\u001b[0m\u001b[1;33m\u001b[0m\u001b[1;33m\u001b[0m\u001b[0m\n\u001b[0;32m   1118\u001b[0m \u001b[1;33m\u001b[0m\u001b[0m\n\u001b[1;32m-> 1119\u001b[1;33m         \u001b[0mhistory\u001b[0m \u001b[1;33m=\u001b[0m \u001b[0mself\u001b[0m\u001b[1;33m.\u001b[0m\u001b[0msetup_dataframe\u001b[0m\u001b[1;33m(\u001b[0m\u001b[0mhistory\u001b[0m\u001b[1;33m,\u001b[0m \u001b[0minitialize_scales\u001b[0m\u001b[1;33m=\u001b[0m\u001b[1;32mTrue\u001b[0m\u001b[1;33m)\u001b[0m\u001b[1;33m\u001b[0m\u001b[1;33m\u001b[0m\u001b[0m\n\u001b[0m\u001b[0;32m   1120\u001b[0m         \u001b[0mself\u001b[0m\u001b[1;33m.\u001b[0m\u001b[0mhistory\u001b[0m \u001b[1;33m=\u001b[0m \u001b[0mhistory\u001b[0m\u001b[1;33m\u001b[0m\u001b[1;33m\u001b[0m\u001b[0m\n\u001b[0;32m   1121\u001b[0m         \u001b[0mself\u001b[0m\u001b[1;33m.\u001b[0m\u001b[0mset_auto_seasonalities\u001b[0m\u001b[1;33m(\u001b[0m\u001b[1;33m)\u001b[0m\u001b[1;33m\u001b[0m\u001b[1;33m\u001b[0m\u001b[0m\n",
      "\u001b[1;32m~\\anaconda3\\lib\\site-packages\\prophet\\forecaster.py\u001b[0m in \u001b[0;36msetup_dataframe\u001b[1;34m(self, df, initialize_scales)\u001b[0m\n\u001b[0;32m    263\u001b[0m         \"\"\"\n\u001b[0;32m    264\u001b[0m         \u001b[1;32mif\u001b[0m \u001b[1;34m'y'\u001b[0m \u001b[1;32min\u001b[0m \u001b[0mdf\u001b[0m\u001b[1;33m:\u001b[0m  \u001b[1;31m# 'y' will be in training data\u001b[0m\u001b[1;33m\u001b[0m\u001b[1;33m\u001b[0m\u001b[0m\n\u001b[1;32m--> 265\u001b[1;33m             \u001b[0mdf\u001b[0m\u001b[1;33m[\u001b[0m\u001b[1;34m'y'\u001b[0m\u001b[1;33m]\u001b[0m \u001b[1;33m=\u001b[0m \u001b[0mpd\u001b[0m\u001b[1;33m.\u001b[0m\u001b[0mto_numeric\u001b[0m\u001b[1;33m(\u001b[0m\u001b[0mdf\u001b[0m\u001b[1;33m[\u001b[0m\u001b[1;34m'y'\u001b[0m\u001b[1;33m]\u001b[0m\u001b[1;33m)\u001b[0m\u001b[1;33m\u001b[0m\u001b[1;33m\u001b[0m\u001b[0m\n\u001b[0m\u001b[0;32m    266\u001b[0m             \u001b[1;32mif\u001b[0m \u001b[0mnp\u001b[0m\u001b[1;33m.\u001b[0m\u001b[0misinf\u001b[0m\u001b[1;33m(\u001b[0m\u001b[0mdf\u001b[0m\u001b[1;33m[\u001b[0m\u001b[1;34m'y'\u001b[0m\u001b[1;33m]\u001b[0m\u001b[1;33m.\u001b[0m\u001b[0mvalues\u001b[0m\u001b[1;33m)\u001b[0m\u001b[1;33m.\u001b[0m\u001b[0many\u001b[0m\u001b[1;33m(\u001b[0m\u001b[1;33m)\u001b[0m\u001b[1;33m:\u001b[0m\u001b[1;33m\u001b[0m\u001b[1;33m\u001b[0m\u001b[0m\n\u001b[0;32m    267\u001b[0m                 \u001b[1;32mraise\u001b[0m \u001b[0mValueError\u001b[0m\u001b[1;33m(\u001b[0m\u001b[1;34m'Found infinity in column y.'\u001b[0m\u001b[1;33m)\u001b[0m\u001b[1;33m\u001b[0m\u001b[1;33m\u001b[0m\u001b[0m\n",
      "\u001b[1;32m~\\anaconda3\\lib\\site-packages\\pandas\\core\\tools\\numeric.py\u001b[0m in \u001b[0;36mto_numeric\u001b[1;34m(arg, errors, downcast)\u001b[0m\n\u001b[0;32m    182\u001b[0m         \u001b[0mcoerce_numeric\u001b[0m \u001b[1;33m=\u001b[0m \u001b[0merrors\u001b[0m \u001b[1;32mnot\u001b[0m \u001b[1;32min\u001b[0m \u001b[1;33m(\u001b[0m\u001b[1;34m\"ignore\"\u001b[0m\u001b[1;33m,\u001b[0m \u001b[1;34m\"raise\"\u001b[0m\u001b[1;33m)\u001b[0m\u001b[1;33m\u001b[0m\u001b[1;33m\u001b[0m\u001b[0m\n\u001b[0;32m    183\u001b[0m         \u001b[1;32mtry\u001b[0m\u001b[1;33m:\u001b[0m\u001b[1;33m\u001b[0m\u001b[1;33m\u001b[0m\u001b[0m\n\u001b[1;32m--> 184\u001b[1;33m             values, _ = lib.maybe_convert_numeric(\n\u001b[0m\u001b[0;32m    185\u001b[0m                 \u001b[0mvalues\u001b[0m\u001b[1;33m,\u001b[0m \u001b[0mset\u001b[0m\u001b[1;33m(\u001b[0m\u001b[1;33m)\u001b[0m\u001b[1;33m,\u001b[0m \u001b[0mcoerce_numeric\u001b[0m\u001b[1;33m=\u001b[0m\u001b[0mcoerce_numeric\u001b[0m\u001b[1;33m\u001b[0m\u001b[1;33m\u001b[0m\u001b[0m\n\u001b[0;32m    186\u001b[0m             )\n",
      "\u001b[1;32m~\\anaconda3\\lib\\site-packages\\pandas\\_libs\\lib.pyx\u001b[0m in \u001b[0;36mpandas._libs.lib.maybe_convert_numeric\u001b[1;34m()\u001b[0m\n",
      "\u001b[1;31mTypeError\u001b[0m: Invalid object type at position 0"
     ]
    }
   ],
   "source": [
    "junggu_hangjung_predict = pd.DataFrame()\n",
    "\n",
    "for i,name in enumerate(dong_name):\n",
    "    data = pd.DataFrame()\n",
    "    data = df[[name,'Date']]\n",
    "    data.columns = ['y','ds']\n",
    "#    data['ds'] = pd.to_numeric(data['ds'])\n",
    "    data['ds'] = pd.to_datetime(data['ds'])\n",
    "#    data = df.apply(pd.to_numeric)\n",
    "\n",
    "    model = Prophet().fit(data)\n",
    "#    model.fit(data)\n",
    "    print(i,\"model_fit\")\n",
    "\n",
    "    forecast = model.predict(last_3year)\n",
    "    print(i,\"model_predict\")\n",
    "    junggu_hangjung_predict = pd.concat([junggu_hangjung_predict, forecast['yhat']], ignore_index = True, axis=1)"
   ]
  },
  {
   "cell_type": "code",
   "execution_count": 31,
   "id": "352adb73",
   "metadata": {},
   "outputs": [],
   "source": [
    "junggu_hangjung_predict = pd.concat([junggu_hangjung_predict, forecast['ds']], ignore_index = True, axis=1)\n",
    "\n",
    "junggu_hangjung_predict.columns = ['학성동', '반구1동', '반구2동', '복산1동', '복산2동', '중앙동', '우정동', '태화동', '다운동', '병영1동', '병영2동', '약사동', '성안동', 'Date']\n",
    "\n",
    "junggu_hangjung_predict=junggu_hangjung_predict[10:]"
   ]
  },
  {
   "cell_type": "code",
   "execution_count": 32,
   "id": "4c7fc30f",
   "metadata": {},
   "outputs": [],
   "source": [
    "junggu_hangjung_predict.to_csv('junggu_hangjung_predict.csv',index = False, encoding='cp949')"
   ]
  },
  {
   "cell_type": "code",
   "execution_count": null,
   "id": "db96d87c",
   "metadata": {},
   "outputs": [],
   "source": []
  },
  {
   "cell_type": "code",
   "execution_count": null,
   "id": "b896542c",
   "metadata": {},
   "outputs": [],
   "source": []
  }
 ],
 "metadata": {
  "kernelspec": {
   "display_name": "Python 3 (ipykernel)",
   "language": "python",
   "name": "python3"
  },
  "language_info": {
   "codemirror_mode": {
    "name": "ipython",
    "version": 3
   },
   "file_extension": ".py",
   "mimetype": "text/x-python",
   "name": "python",
   "nbconvert_exporter": "python",
   "pygments_lexer": "ipython3",
   "version": "3.9.13"
  }
 },
 "nbformat": 4,
 "nbformat_minor": 5
}
